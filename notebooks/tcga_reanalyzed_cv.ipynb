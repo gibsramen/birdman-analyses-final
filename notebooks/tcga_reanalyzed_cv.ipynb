{
 "cells": [
  {
   "cell_type": "code",
   "execution_count": 1,
   "id": "bd963e15-2d46-478c-8a6d-2f74c59cf150",
   "metadata": {},
   "outputs": [],
   "source": [
    "import biom\n",
    "import matplotlib.pyplot as plt\n",
    "import numpy as np\n",
    "import pandas as pd\n",
    "import seaborn as sns\n",
    "import scipy.stats as ss\n",
    "from skbio.stats.composition import clr\n",
    "from sklearn.metrics import balanced_accuracy_score, make_scorer, log_loss\n",
    "from sklearn.ensemble import RandomForestClassifier\n",
    "from sklearn.model_selection import cross_val_score, cross_validate, RepeatedStratifiedKFold\n",
    "from sklearn.linear_model import LogisticRegression\n",
    "\n",
    "from helper import tool_text_styling_dict, tool_palette\n",
    "\n",
    "plt.style.use(\"./paper.mplstyle\")"
   ]
  },
  {
   "cell_type": "code",
   "execution_count": 2,
   "id": "eaabb39d-b17b-4cfd-9c8b-ce737db18083",
   "metadata": {},
   "outputs": [
    {
     "name": "stdout",
     "output_type": "stream",
     "text": [
      "(664, 38)\n"
     ]
    }
   ],
   "source": [
    "from sklearn.preprocessing import LabelEncoder, OneHotEncoder\n",
    "\n",
    "md = pd.read_table(\"../data/tcga_reanalyzed/processed/processed_md.tsv\", sep=\"\\t\", index_col=0)\n",
    "md[\"investigation\"] = md[\"investigation\"].str.replace(\"TCGA-\", \"\")\n",
    "investigations = [x for x in md[\"investigation\"].value_counts().index if x != \"BRCA\"]\n",
    "print(md.shape)\n",
    "invest_labels = pd.Series(\n",
    "    LabelEncoder().fit_transform(md[\"investigation\"]),\n",
    "    index=md.index\n",
    ")\n",
    "center_labels = pd.Series(\n",
    "    LabelEncoder().fit_transform(md[\"data_submitting_center_label\"]),\n",
    "    index=md.index\n",
    ")"
   ]
  },
  {
   "cell_type": "code",
   "execution_count": 3,
   "id": "d156f48e-41c2-4835-a3cf-5bc04cce9742",
   "metadata": {},
   "outputs": [
    {
     "data": {
      "text/plain": [
       "Harvard Medical School                                274\n",
       "Washington University School of Medicine              162\n",
       "MD Anderson - Institute for Applied Cancer Science    111\n",
       "Baylor College of Medicine                             65\n",
       "Broad Institute of MIT and Harvard                     52\n",
       "Name: data_submitting_center_label, dtype: int64"
      ]
     },
     "execution_count": 3,
     "metadata": {},
     "output_type": "execute_result"
    }
   ],
   "source": [
    "md[\"data_submitting_center_label\"].value_counts()"
   ]
  },
  {
   "cell_type": "code",
   "execution_count": 4,
   "id": "2fe9ed6e-b5bf-4b9f-80ce-f751f1f4ecc6",
   "metadata": {},
   "outputs": [
    {
     "data": {
      "text/plain": [
       "Index(['sample_name', 'run_prefix', 'experimental_strategy', 'cgc_base_name',\n",
       "       'filename', 'analyte_amount', 'analyte_A260A280Ratio',\n",
       "       'aliquot_concentration', 'cgc_id', 'cgc_filename', 'vital_status',\n",
       "       'gender', 'race', 'ethnicity', 'disease_type', 'data_subtype',\n",
       "       'tcga_sample_id', 'cgc_case_uuid', 'sample_type', 'cgc_platform',\n",
       "       'gdc_file_uuid', 'primary_site', 'age_at_diagnosis', 'cgc_sample_uuid',\n",
       "       'cgc_aliquot_uuid', 'tcga_aliquot_id', 'reference_genome',\n",
       "       'tcga_case_id', 'investigation', 'days_to_death',\n",
       "       'data_submitting_center_label', 'tissue_source_site_label',\n",
       "       'country_of_sample_procurement', 'portion_is_ffpe',\n",
       "       'pathologic_t_label', 'pathologic_n_label',\n",
       "       'histological_diagnosis_label', 'pathologic_stage_label'],\n",
       "      dtype='object')"
      ]
     },
     "execution_count": 4,
     "metadata": {},
     "output_type": "execute_result"
    }
   ],
   "source": [
    "md.columns"
   ]
  },
  {
   "cell_type": "code",
   "execution_count": 5,
   "id": "9c1d1750-2055-40c3-8a3a-011f151d846c",
   "metadata": {},
   "outputs": [],
   "source": [
    "centers_short_map = {\n",
    "    \"Washington University School of Medicine\": \"WUSTL\",\n",
    "    \"Broad Institute of MIT and Harvard\": \"BI\",\n",
    "    \"Baylor College of Medicine\": \"BCM\",\n",
    "    \"Harvard Medical School\": \"HMS\",\n",
    "    \"MD Anderson - Institute for Applied Cancer Science\": \"MDA\"\n",
    "}"
   ]
  },
  {
   "cell_type": "code",
   "execution_count": 6,
   "id": "d016f316-e982-48e3-8bf2-72f0cea35989",
   "metadata": {},
   "outputs": [],
   "source": [
    "centers = md[\"data_submitting_center_label\"].unique()\n",
    "\n",
    "center_pal = dict(zip(\n",
    "    centers,\n",
    "    sns.color_palette(\"colorblind\", len(centers))\n",
    "))"
   ]
  },
  {
   "cell_type": "code",
   "execution_count": 7,
   "id": "f01d04db-f89c-403e-bc1f-e326a3ef8206",
   "metadata": {},
   "outputs": [],
   "source": [
    "from pathlib import Path\n",
    "\n",
    "qpath = Path(\"../results/tcga_reanalyzed/\")\n",
    "qfiles = qpath.glob(\"feature_quantiles.split_*.tsv\")\n",
    "qdict = dict()\n",
    "\n",
    "for f in qfiles:\n",
    "    split_num = int(f.name[-5])\n",
    "    qdict[split_num] = pd.read_table(f, sep=\"\\t\")"
   ]
  },
  {
   "cell_type": "code",
   "execution_count": 8,
   "id": "6040561d-c19b-4bdd-91e1-5c609a92570f",
   "metadata": {},
   "outputs": [],
   "source": [
    "dpath = Path(\"../data/tcga_reanalyzed/processed/\")\n",
    "split_dirs = dpath.glob(\"split_*\")\n",
    "\n",
    "tbl_dict = dict()\n",
    "\n",
    "for f in split_dirs:\n",
    "    split_num = int(f.name[-1])\n",
    "    train_tbl = biom.load_table(f / f\"merged_tbl.train.{split_num}.biom\")\n",
    "    valid_tbl = biom.load_table(f / f\"merged_tbl.valid.{split_num}.biom\")\n",
    "    tbl_dict[split_num] = {\"train\": train_tbl, \"valid\": valid_tbl}"
   ]
  },
  {
   "cell_type": "code",
   "execution_count": 9,
   "id": "95ca3c2e-eeee-481b-8f35-4046bf0bd714",
   "metadata": {},
   "outputs": [],
   "source": [
    "test_tbl = biom.load_table(dpath / \"merged_tbl.test.biom\")"
   ]
  },
  {
   "cell_type": "code",
   "execution_count": 10,
   "id": "1bc2108f-e19d-48a5-bb00-404a3f318115",
   "metadata": {},
   "outputs": [],
   "source": [
    "model = LogisticRegression(\n",
    "    multi_class=\"multinomial\",\n",
    "    solver=\"lbfgs\",\n",
    "    max_iter=5000,\n",
    "    class_weight=\"balanced\",\n",
    "    fit_intercept=True,\n",
    "    C=1\n",
    ")"
   ]
  },
  {
   "cell_type": "code",
   "execution_count": 11,
   "id": "43c953dc-8c46-450e-8e60-38b7e0490b98",
   "metadata": {},
   "outputs": [],
   "source": [
    "def log_ratio(table, top_feats, bot_feats):\n",
    "    num_sum = table.loc[:, top_feats].sum(axis=1)\n",
    "    denom_sum = table.loc[:, bot_feats].sum(axis=1)\n",
    "    lr_df = pd.concat([num_sum, denom_sum], axis=1)\n",
    "    lr_df.columns = [\"num\", \"denom\"]\n",
    "    #lr_df = lr_df.dropna(how=\"all\")\n",
    "    lr_df = lr_df + 1\n",
    "    lr_df[\"log_ratio\"] = np.log(lr_df[\"num\"]/lr_df[\"denom\"]).to_frame()\n",
    "    return lr_df"
   ]
  },
  {
   "cell_type": "code",
   "execution_count": 12,
   "id": "1aa8d6d3-0e75-4ae0-b645-9e0d3e3a3643",
   "metadata": {},
   "outputs": [],
   "source": [
    "def get_lr_feats(quantiles, invest, n=50):\n",
    "    top_n = quantiles.query(\"quantile == 0.975\").sort_values(by=invest)[\"feature\"].tail(n).values\n",
    "    bot_n = quantiles.query(\"quantile == 0.025\").sort_values(by=invest)[\"feature\"].head(n).values\n",
    "    \n",
    "    return top_n, bot_n"
   ]
  },
  {
   "cell_type": "code",
   "execution_count": 13,
   "id": "67e71148-4e92-4764-9bf0-89b8a72c90b0",
   "metadata": {},
   "outputs": [],
   "source": [
    "def get_lr_feats_other(results_df, invest, n=50):\n",
    "    col = results_df[invest].sort_values(ascending=False)\n",
    "    top_n = col.head(n).index\n",
    "    bot_n = col.tail(n).index\n",
    "\n",
    "    return top_n, bot_n"
   ]
  },
  {
   "cell_type": "code",
   "execution_count": 14,
   "id": "3e229b67-6070-48e7-87ce-5835673aad3f",
   "metadata": {},
   "outputs": [],
   "source": [
    "def get_predictor_df(tbl, top_feats, bot_feats):\n",
    "    tbl_df = tbl.to_dataframe(dense=True).T\n",
    "    lr = log_ratio(tbl_df, top_n, bot_n)[\"log_ratio\"]\n",
    "\n",
    "    return lr"
   ]
  },
  {
   "cell_type": "markdown",
   "id": "e9ea1eef-02fe-4e0d-9e03-ef135b450133",
   "metadata": {},
   "source": [
    "# BIRDMAn"
   ]
  },
  {
   "cell_type": "code",
   "execution_count": 15,
   "id": "b49ad4c7-ce7f-48c8-b856-57ec7ff4db88",
   "metadata": {},
   "outputs": [
    {
     "name": "stdout",
     "output_type": "stream",
     "text": [
      "Split 0: Train=0.741, Valid=0.748\n",
      "Split 1: Train=0.793, Valid=0.745\n",
      "Split 2: Train=0.821, Valid=0.774\n",
      "Split 3: Train=0.753, Valid=0.726\n",
      "Split 4: Train=0.736, Valid=0.708\n"
     ]
    }
   ],
   "source": [
    "from collections import defaultdict\n",
    "from copy import deepcopy\n",
    "\n",
    "best_birdman_score = 0\n",
    "birdman_score_dict = dict()\n",
    "\n",
    "for i in range(5):\n",
    "    train_tbl = tbl_dict[i][\"train\"]\n",
    "    valid_tbl = tbl_dict[i][\"valid\"]\n",
    "    quantiles = qdict[i]\n",
    "    \n",
    "    train_predictors = dict()\n",
    "    valid_predictors = dict()\n",
    "    \n",
    "    ratio_microbes = dict()\n",
    "    \n",
    "    for invest in investigations:\n",
    "        top_n, bot_n = get_lr_feats(quantiles, invest, n=100)\n",
    "        train_predictors[invest] = get_predictor_df(train_tbl, top_n, bot_n)\n",
    "        valid_predictors[invest] = get_predictor_df(valid_tbl, top_n, bot_n)\n",
    "        ratio_microbes[invest] = {\"top\": top_n, \"bot\": bot_n}\n",
    "\n",
    "    predictor_df_train = (\n",
    "        pd.DataFrame.from_dict(train_predictors)\n",
    "        .join(md[[\"investigation\", \"data_submitting_center_label\"]], how=\"inner\")\n",
    "    )\n",
    "    predictor_df_valid = (\n",
    "        pd.DataFrame.from_dict(valid_predictors)\n",
    "        .join(md[[\"investigation\", \"data_submitting_center_label\"]], how=\"inner\")\n",
    "    )\n",
    "\n",
    "    X_train = predictor_df_train[investigations]\n",
    "    _invests = predictor_df_train[\"investigation\"].unique()\n",
    "    _invests = [x for x in _invests if x != \"BRCA\"]\n",
    "    X_train = X_train[_invests]\n",
    "    \n",
    "    transformer = LabelEncoder().fit(predictor_df_train[\"investigation\"])\n",
    "    y_train = transformer.transform(predictor_df_train[\"investigation\"])\n",
    "\n",
    "    model.fit(X_train, y_train)\n",
    "    \n",
    "    X_valid = predictor_df_valid[investigations]\n",
    "    _invests = predictor_df_valid[\"investigation\"].unique()\n",
    "    _invests = [x for x in _invests if x != \"BRCA\"]\n",
    "    X_valid = X_valid[_invests]\n",
    "    y_valid = transformer.transform(predictor_df_valid[\"investigation\"])\n",
    "    \n",
    "    train_score = model.score(X_train, y_train)\n",
    "    valid_score = model.score(X_valid, y_valid)\n",
    "    \n",
    "    print(f\"Split {i}: Train={train_score:.3f}, Valid={valid_score:.3f}\")\n",
    "    \n",
    "    if valid_score > best_birdman_score:\n",
    "        best_birdman_quantiles = quantiles\n",
    "        best_birdman_model = deepcopy(model)\n",
    "        best_birdman_score = valid_score\n",
    "        best_transformer = transformer\n",
    "        best_birdman_ratio_microbes = ratio_microbes\n",
    "        \n",
    "    birdman_score_dict[i] = {\"train\": train_score, \"valid\": valid_score}"
   ]
  },
  {
   "cell_type": "code",
   "execution_count": 16,
   "id": "52dae834-3c38-46ec-83a9-c3ee158cbc62",
   "metadata": {},
   "outputs": [
    {
     "data": {
      "text/html": [
       "<div>\n",
       "<style scoped>\n",
       "    .dataframe tbody tr th:only-of-type {\n",
       "        vertical-align: middle;\n",
       "    }\n",
       "\n",
       "    .dataframe tbody tr th {\n",
       "        vertical-align: top;\n",
       "    }\n",
       "\n",
       "    .dataframe thead th {\n",
       "        text-align: right;\n",
       "    }\n",
       "</style>\n",
       "<table border=\"1\" class=\"dataframe\">\n",
       "  <thead>\n",
       "    <tr style=\"text-align: right;\">\n",
       "      <th></th>\n",
       "      <th>train</th>\n",
       "      <th>valid</th>\n",
       "      <th>tool</th>\n",
       "    </tr>\n",
       "  </thead>\n",
       "  <tbody>\n",
       "    <tr>\n",
       "      <th>0</th>\n",
       "      <td>0.740566</td>\n",
       "      <td>0.747664</td>\n",
       "      <td>BIRDMAn</td>\n",
       "    </tr>\n",
       "    <tr>\n",
       "      <th>1</th>\n",
       "      <td>0.792941</td>\n",
       "      <td>0.745283</td>\n",
       "      <td>BIRDMAn</td>\n",
       "    </tr>\n",
       "    <tr>\n",
       "      <th>2</th>\n",
       "      <td>0.821176</td>\n",
       "      <td>0.773585</td>\n",
       "      <td>BIRDMAn</td>\n",
       "    </tr>\n",
       "    <tr>\n",
       "      <th>3</th>\n",
       "      <td>0.752941</td>\n",
       "      <td>0.726415</td>\n",
       "      <td>BIRDMAn</td>\n",
       "    </tr>\n",
       "    <tr>\n",
       "      <th>4</th>\n",
       "      <td>0.736471</td>\n",
       "      <td>0.707547</td>\n",
       "      <td>BIRDMAn</td>\n",
       "    </tr>\n",
       "  </tbody>\n",
       "</table>\n",
       "</div>"
      ],
      "text/plain": [
       "      train     valid     tool\n",
       "0  0.740566  0.747664  BIRDMAn\n",
       "1  0.792941  0.745283  BIRDMAn\n",
       "2  0.821176  0.773585  BIRDMAn\n",
       "3  0.752941  0.726415  BIRDMAn\n",
       "4  0.736471  0.707547  BIRDMAn"
      ]
     },
     "execution_count": 16,
     "metadata": {},
     "output_type": "execute_result"
    }
   ],
   "source": [
    "birdman_scores = pd.DataFrame(birdman_score_dict).T\n",
    "birdman_scores[\"tool\"] = \"BIRDMAn\"\n",
    "birdman_scores"
   ]
  },
  {
   "cell_type": "code",
   "execution_count": 17,
   "id": "d3e70ff2-fb4d-46f8-ac97-25e17527c177",
   "metadata": {},
   "outputs": [
    {
     "name": "stdout",
     "output_type": "stream",
     "text": [
      "0.8120300751879699\n"
     ]
    }
   ],
   "source": [
    "test_predictors = dict()\n",
    "\n",
    "for invest in investigations:\n",
    "    top_n, bot_n = get_lr_feats(best_birdman_quantiles, invest, n=100)\n",
    "    test_predictors[invest] = get_predictor_df(test_tbl, top_n, bot_n)\n",
    "\n",
    "predictor_df_test = (\n",
    "    pd.DataFrame.from_dict(test_predictors)\n",
    "    .join(md[[\"investigation\", \"data_submitting_center_label\"]], how=\"inner\")\n",
    ")\n",
    "\n",
    "X_test = predictor_df_test[investigations]\n",
    "_invests = predictor_df_test[\"investigation\"].unique()\n",
    "_invests = [x for x in _invests if x != \"BRCA\"]\n",
    "X_test = X_test[_invests]\n",
    "y_test = best_transformer.transform(predictor_df_test[\"investigation\"])\n",
    "\n",
    "test_birdman_score = best_birdman_model.score(X_test, y_test)\n",
    "print(test_birdman_score)"
   ]
  },
  {
   "cell_type": "markdown",
   "id": "9d3bd2a4-3d16-4f94-a194-345ee52d62b8",
   "metadata": {},
   "source": [
    "# Other Tools"
   ]
  },
  {
   "cell_type": "markdown",
   "id": "8c372d5f-d9bc-43eb-a4b0-3ef59d542387",
   "metadata": {},
   "source": [
    "## ALDEx2"
   ]
  },
  {
   "cell_type": "code",
   "execution_count": 18,
   "id": "2a1e2943-62b4-4e09-b940-5b620c23de9f",
   "metadata": {},
   "outputs": [
    {
     "name": "stdout",
     "output_type": "stream",
     "text": [
      "Split 0: Train=0.559, Valid=0.542\n",
      "Split 1: Train=0.562, Valid=0.509\n",
      "Split 2: Train=0.471, Valid=0.443\n",
      "Split 3: Train=0.478, Valid=0.509\n",
      "Split 4: Train=0.478, Valid=0.509\n"
     ]
    }
   ],
   "source": [
    "import re\n",
    "\n",
    "aldex2_regex = re.compile(\"model\\.investigation([A-Z]+) Estimate\")\n",
    "aldex2_path = Path(\"../results/tcga_reanalyzed/aldex2_split/\")\n",
    "\n",
    "best_aldex2_score = 0\n",
    "aldex2_score_dict = dict()\n",
    "\n",
    "for i in range(5):\n",
    "    train_tbl = tbl_dict[i][\"train\"]\n",
    "    valid_tbl = tbl_dict[i][\"valid\"]\n",
    "    \n",
    "    aldex2_split_path = aldex2_path / f\"split_{i}.results.tsv\"\n",
    "    aldex2_res = pd.read_table(aldex2_split_path, sep=\"\\t\", index_col=0)\n",
    "    cols = [x for x in aldex2_res.columns if \"investigation\" in x]\n",
    "    aldex2_res = aldex2_res[cols]\n",
    "    aldex2_res = aldex2_res.filter(like=\"Estimate\")\n",
    "    aldex2_res = aldex2_res.rename(columns=lambda x: aldex2_regex.search(x).groups()[0])\n",
    "    \n",
    "    train_predictors = dict()\n",
    "    valid_predictors = dict()\n",
    "    \n",
    "    for invest in investigations:\n",
    "        top_n, bot_n = get_lr_feats_other(aldex2_res, invest, n=100)\n",
    "        train_predictors[invest] = get_predictor_df(train_tbl, top_n, bot_n)\n",
    "        valid_predictors[invest] = get_predictor_df(valid_tbl, top_n, bot_n)\n",
    "    \n",
    "    predictor_df_train = (\n",
    "        pd.DataFrame.from_dict(train_predictors)\n",
    "        .join(md[[\"investigation\", \"data_submitting_center_label\"]], how=\"inner\")\n",
    "    )\n",
    "    predictor_df_valid = (\n",
    "        pd.DataFrame.from_dict(valid_predictors)\n",
    "        .join(md[[\"investigation\", \"data_submitting_center_label\"]], how=\"inner\")\n",
    "    )\n",
    "\n",
    "    X_train = predictor_df_train[investigations]\n",
    "    _invests = predictor_df_train[\"investigation\"].unique()\n",
    "    _invests = [x for x in _invests if x != \"BRCA\"]\n",
    "    X_train = X_train[_invests]\n",
    "    \n",
    "    transformer = LabelEncoder().fit(predictor_df_train[\"investigation\"])\n",
    "    y_train = transformer.transform(predictor_df_train[\"investigation\"])\n",
    "\n",
    "    model.fit(X_train, y_train)\n",
    "    \n",
    "    X_valid = predictor_df_valid[investigations]\n",
    "    _invests = predictor_df_valid[\"investigation\"].unique()\n",
    "    _invests = [x for x in _invests if x != \"BRCA\"]\n",
    "    X_valid = X_valid[_invests]\n",
    "    y_valid = transformer.transform(predictor_df_valid[\"investigation\"])\n",
    "    \n",
    "    train_score = model.score(X_train, y_train)\n",
    "    valid_score = model.score(X_valid, y_valid)\n",
    "    \n",
    "    print(f\"Split {i}: Train={train_score:.3f}, Valid={valid_score:.3f}\")\n",
    "    \n",
    "    if valid_score > best_aldex2_score:\n",
    "        best_aldex2_res = aldex2_res\n",
    "        best_aldex2_model = deepcopy(model)\n",
    "        best_aldex2_score = valid_score\n",
    "        best_aldex2_transformer = transformer\n",
    "        \n",
    "    aldex2_score_dict[i] = {\"train\": train_score, \"valid\": valid_score}"
   ]
  },
  {
   "cell_type": "code",
   "execution_count": 19,
   "id": "48d22220-8737-4bc7-b5bf-75728274dfeb",
   "metadata": {},
   "outputs": [
    {
     "data": {
      "text/html": [
       "<div>\n",
       "<style scoped>\n",
       "    .dataframe tbody tr th:only-of-type {\n",
       "        vertical-align: middle;\n",
       "    }\n",
       "\n",
       "    .dataframe tbody tr th {\n",
       "        vertical-align: top;\n",
       "    }\n",
       "\n",
       "    .dataframe thead th {\n",
       "        text-align: right;\n",
       "    }\n",
       "</style>\n",
       "<table border=\"1\" class=\"dataframe\">\n",
       "  <thead>\n",
       "    <tr style=\"text-align: right;\">\n",
       "      <th></th>\n",
       "      <th>train</th>\n",
       "      <th>valid</th>\n",
       "      <th>tool</th>\n",
       "    </tr>\n",
       "  </thead>\n",
       "  <tbody>\n",
       "    <tr>\n",
       "      <th>0</th>\n",
       "      <td>0.558962</td>\n",
       "      <td>0.542056</td>\n",
       "      <td>ALDEx2</td>\n",
       "    </tr>\n",
       "    <tr>\n",
       "      <th>1</th>\n",
       "      <td>0.562353</td>\n",
       "      <td>0.509434</td>\n",
       "      <td>ALDEx2</td>\n",
       "    </tr>\n",
       "    <tr>\n",
       "      <th>2</th>\n",
       "      <td>0.470588</td>\n",
       "      <td>0.443396</td>\n",
       "      <td>ALDEx2</td>\n",
       "    </tr>\n",
       "    <tr>\n",
       "      <th>3</th>\n",
       "      <td>0.477647</td>\n",
       "      <td>0.509434</td>\n",
       "      <td>ALDEx2</td>\n",
       "    </tr>\n",
       "    <tr>\n",
       "      <th>4</th>\n",
       "      <td>0.477647</td>\n",
       "      <td>0.509434</td>\n",
       "      <td>ALDEx2</td>\n",
       "    </tr>\n",
       "  </tbody>\n",
       "</table>\n",
       "</div>"
      ],
      "text/plain": [
       "      train     valid    tool\n",
       "0  0.558962  0.542056  ALDEx2\n",
       "1  0.562353  0.509434  ALDEx2\n",
       "2  0.470588  0.443396  ALDEx2\n",
       "3  0.477647  0.509434  ALDEx2\n",
       "4  0.477647  0.509434  ALDEx2"
      ]
     },
     "execution_count": 19,
     "metadata": {},
     "output_type": "execute_result"
    }
   ],
   "source": [
    "aldex2_scores = pd.DataFrame(aldex2_score_dict).T\n",
    "aldex2_scores[\"tool\"] = \"ALDEx2\"\n",
    "aldex2_scores"
   ]
  },
  {
   "cell_type": "code",
   "execution_count": 20,
   "id": "93f3cd83-6fac-4dfe-a060-ee48581e3348",
   "metadata": {},
   "outputs": [
    {
     "name": "stdout",
     "output_type": "stream",
     "text": [
      "0.5864661654135338\n"
     ]
    }
   ],
   "source": [
    "test_predictors = dict()\n",
    "\n",
    "for invest in investigations:\n",
    "    top_n, bot_n = get_lr_feats_other(best_aldex2_res, invest, n=100)\n",
    "    test_predictors[invest] = get_predictor_df(test_tbl, top_n, bot_n)\n",
    "\n",
    "predictor_df_test = (\n",
    "    pd.DataFrame.from_dict(test_predictors)\n",
    "    .join(md[[\"investigation\", \"data_submitting_center_label\"]], how=\"inner\")\n",
    ")\n",
    "\n",
    "X_test = predictor_df_test[investigations]\n",
    "_invests = predictor_df_test[\"investigation\"].unique()\n",
    "_invests = [x for x in _invests if x != \"BRCA\"]\n",
    "X_test = X_test[_invests]\n",
    "y_test = best_aldex2_transformer.transform(predictor_df_test[\"investigation\"])\n",
    "\n",
    "test_aldex2_score = best_aldex2_model.score(X_test, y_test)\n",
    "print(test_aldex2_score)"
   ]
  },
  {
   "cell_type": "markdown",
   "id": "9fc7ba91-edf2-4335-8b58-48e3c8235fb3",
   "metadata": {},
   "source": [
    "## ANCOMBC"
   ]
  },
  {
   "cell_type": "code",
   "execution_count": 21,
   "id": "8e8f9017-2ab5-48bc-b24d-444d984d959e",
   "metadata": {},
   "outputs": [
    {
     "name": "stdout",
     "output_type": "stream",
     "text": [
      "Split 0: Train=0.467, Valid=0.467\n",
      "Split 1: Train=0.475, Valid=0.396\n",
      "Split 2: Train=0.459, Valid=0.462\n",
      "Split 3: Train=0.454, Valid=0.472\n",
      "Split 4: Train=0.456, Valid=0.509\n"
     ]
    }
   ],
   "source": [
    "ancombc_path = Path(\"../results/tcga_reanalyzed/ancombc_split/\")\n",
    "\n",
    "best_ancombc_score = 0\n",
    "\n",
    "ancombc_score_dict = dict()\n",
    "\n",
    "for i in range(5):\n",
    "    train_tbl = tbl_dict[i][\"train\"]\n",
    "    valid_tbl = tbl_dict[i][\"valid\"]\n",
    "    \n",
    "    ancombc_split_path = ancombc_path / f\"split_{i}.results.beta.tsv\"\n",
    "    ancombc_res = pd.read_table(ancombc_split_path, sep=\"\\t\", index_col=0)\n",
    "    ancombc_res = ancombc_res.filter(like=\"investigation\")\n",
    "    ancombc_res.columns = [x.replace(\"investigation\", \"\") for x in ancombc_res.columns]\n",
    "    \n",
    "    train_predictors = dict()\n",
    "    valid_predictors = dict()\n",
    "    \n",
    "    for invest in investigations:\n",
    "        top_n, bot_n = get_lr_feats_other(ancombc_res, invest, n=100)\n",
    "        train_predictors[invest] = get_predictor_df(train_tbl, top_n, bot_n)\n",
    "        valid_predictors[invest] = get_predictor_df(valid_tbl, top_n, bot_n)\n",
    "    \n",
    "    predictor_df_train = (\n",
    "        pd.DataFrame.from_dict(train_predictors)\n",
    "        .join(md[[\"investigation\", \"data_submitting_center_label\"]], how=\"inner\")\n",
    "    )\n",
    "    predictor_df_valid = (\n",
    "        pd.DataFrame.from_dict(valid_predictors)\n",
    "        .join(md[[\"investigation\", \"data_submitting_center_label\"]], how=\"inner\")\n",
    "    )\n",
    "\n",
    "    X_train = predictor_df_train[investigations]\n",
    "    _invests = predictor_df_train[\"investigation\"].unique()\n",
    "    _invests = [x for x in _invests if x != \"BRCA\"]\n",
    "    X_train = X_train[_invests]\n",
    "    \n",
    "    transformer = LabelEncoder().fit(predictor_df_train[\"investigation\"])\n",
    "    y_train = transformer.transform(predictor_df_train[\"investigation\"])\n",
    "\n",
    "    model.fit(X_train, y_train)\n",
    "    \n",
    "    X_valid = predictor_df_valid[investigations]\n",
    "    _invests = predictor_df_valid[\"investigation\"].unique()\n",
    "    _invests = [x for x in _invests if x != \"BRCA\"]\n",
    "    X_valid = X_valid[_invests]\n",
    "    y_valid = transformer.transform(predictor_df_valid[\"investigation\"])\n",
    "    \n",
    "    train_score = model.score(X_train, y_train)\n",
    "    valid_score = model.score(X_valid, y_valid)\n",
    "    \n",
    "    print(f\"Split {i}: Train={train_score:.3f}, Valid={valid_score:.3f}\")\n",
    "    \n",
    "    if valid_score > best_ancombc_score:\n",
    "        best_ancombc_res = ancombc_res\n",
    "        best_ancombc_model = deepcopy(model)\n",
    "        best_ancombc_score = valid_score\n",
    "        best_ancombc_transformer = transformer\n",
    "        \n",
    "    ancombc_score_dict[i] = {\"train\": train_score, \"valid\": valid_score}"
   ]
  },
  {
   "cell_type": "code",
   "execution_count": 22,
   "id": "7719d48a-590f-4b09-a924-b959244229db",
   "metadata": {},
   "outputs": [
    {
     "data": {
      "text/html": [
       "<div>\n",
       "<style scoped>\n",
       "    .dataframe tbody tr th:only-of-type {\n",
       "        vertical-align: middle;\n",
       "    }\n",
       "\n",
       "    .dataframe tbody tr th {\n",
       "        vertical-align: top;\n",
       "    }\n",
       "\n",
       "    .dataframe thead th {\n",
       "        text-align: right;\n",
       "    }\n",
       "</style>\n",
       "<table border=\"1\" class=\"dataframe\">\n",
       "  <thead>\n",
       "    <tr style=\"text-align: right;\">\n",
       "      <th></th>\n",
       "      <th>train</th>\n",
       "      <th>valid</th>\n",
       "      <th>tool</th>\n",
       "    </tr>\n",
       "  </thead>\n",
       "  <tbody>\n",
       "    <tr>\n",
       "      <th>0</th>\n",
       "      <td>0.466981</td>\n",
       "      <td>0.467290</td>\n",
       "      <td>ANCOM-BC</td>\n",
       "    </tr>\n",
       "    <tr>\n",
       "      <th>1</th>\n",
       "      <td>0.475294</td>\n",
       "      <td>0.396226</td>\n",
       "      <td>ANCOM-BC</td>\n",
       "    </tr>\n",
       "    <tr>\n",
       "      <th>2</th>\n",
       "      <td>0.458824</td>\n",
       "      <td>0.462264</td>\n",
       "      <td>ANCOM-BC</td>\n",
       "    </tr>\n",
       "    <tr>\n",
       "      <th>3</th>\n",
       "      <td>0.454118</td>\n",
       "      <td>0.471698</td>\n",
       "      <td>ANCOM-BC</td>\n",
       "    </tr>\n",
       "    <tr>\n",
       "      <th>4</th>\n",
       "      <td>0.456471</td>\n",
       "      <td>0.509434</td>\n",
       "      <td>ANCOM-BC</td>\n",
       "    </tr>\n",
       "  </tbody>\n",
       "</table>\n",
       "</div>"
      ],
      "text/plain": [
       "      train     valid      tool\n",
       "0  0.466981  0.467290  ANCOM-BC\n",
       "1  0.475294  0.396226  ANCOM-BC\n",
       "2  0.458824  0.462264  ANCOM-BC\n",
       "3  0.454118  0.471698  ANCOM-BC\n",
       "4  0.456471  0.509434  ANCOM-BC"
      ]
     },
     "execution_count": 22,
     "metadata": {},
     "output_type": "execute_result"
    }
   ],
   "source": [
    "ancombc_scores = pd.DataFrame(ancombc_score_dict).T\n",
    "ancombc_scores[\"tool\"] = \"ANCOM-BC\"\n",
    "ancombc_scores"
   ]
  },
  {
   "cell_type": "code",
   "execution_count": 23,
   "id": "99c2c89f-c70b-4a7b-a011-9b47f098edc0",
   "metadata": {},
   "outputs": [
    {
     "name": "stdout",
     "output_type": "stream",
     "text": [
      "0.5112781954887218\n"
     ]
    }
   ],
   "source": [
    "test_predictors = dict()\n",
    "\n",
    "for invest in investigations:\n",
    "    top_n, bot_n = get_lr_feats_other(best_ancombc_res, invest, n=100)\n",
    "    test_predictors[invest] = get_predictor_df(test_tbl, top_n, bot_n)\n",
    "\n",
    "predictor_df_test = (\n",
    "    pd.DataFrame.from_dict(test_predictors)\n",
    "    .join(md[[\"investigation\", \"data_submitting_center_label\"]], how=\"inner\")\n",
    ")\n",
    "\n",
    "X_test = predictor_df_test[investigations]\n",
    "_invests = predictor_df_test[\"investigation\"].unique()\n",
    "_invests = [x for x in _invests if x != \"BRCA\"]\n",
    "X_test = X_test[_invests]\n",
    "y_test = best_ancombc_transformer.transform(predictor_df_test[\"investigation\"])\n",
    "\n",
    "test_ancombc_score = best_ancombc_model.score(X_test, y_test)\n",
    "print(test_ancombc_score)"
   ]
  },
  {
   "cell_type": "markdown",
   "id": "972de7cd-c47e-4196-9091-abe9cadc0d24",
   "metadata": {},
   "source": [
    "## DESeq2"
   ]
  },
  {
   "cell_type": "code",
   "execution_count": 24,
   "id": "36988063-5003-4f07-bd8e-dbef2070500b",
   "metadata": {},
   "outputs": [
    {
     "name": "stdout",
     "output_type": "stream",
     "text": [
      "Split 0: Train=0.613, Valid=0.626\n",
      "Split 1: Train=0.713, Valid=0.651\n",
      "Split 2: Train=0.529, Valid=0.604\n",
      "Split 3: Train=0.689, Valid=0.689\n",
      "Split 4: Train=0.591, Valid=0.594\n"
     ]
    }
   ],
   "source": [
    "deseq2_path = Path(\"../results/tcga_reanalyzed/deseq2_split/\")\n",
    "\n",
    "best_deseq2_score = 0\n",
    "\n",
    "deseq2_score_dict = dict()\n",
    "\n",
    "\n",
    "for i in range(5):\n",
    "    train_tbl = tbl_dict[i][\"train\"]\n",
    "    valid_tbl = tbl_dict[i][\"valid\"]\n",
    "    \n",
    "    deseq2_split_path = deseq2_path / f\"split_{i}\"\n",
    "    deseq2_invest_files = deseq2_split_path.glob(\"*.tsv\")\n",
    "    deseq2_dfs = []\n",
    "    \n",
    "    for f in deseq2_invest_files:\n",
    "        invest = f.stem\n",
    "        if invest == \"Intercept\":\n",
    "            continue\n",
    "        _df = pd.read_table(f, sep=\"\\t\", index_col=0)\n",
    "        _df = _df[\"log2FoldChange\"]\n",
    "        _df.name = invest\n",
    "        deseq2_dfs.append(_df)\n",
    "        \n",
    "    deseq2_res = pd.concat(deseq2_dfs, axis=1)\n",
    "    \n",
    "    train_predictors = dict()\n",
    "    valid_predictors = dict()\n",
    "    \n",
    "    for invest in investigations:\n",
    "        top_n, bot_n = get_lr_feats_other(deseq2_res, invest, n=100)\n",
    "        train_predictors[invest] = get_predictor_df(train_tbl, top_n, bot_n)\n",
    "        valid_predictors[invest] = get_predictor_df(valid_tbl, top_n, bot_n)\n",
    "    \n",
    "    predictor_df_train = (\n",
    "        pd.DataFrame.from_dict(train_predictors)\n",
    "        .join(md[[\"investigation\", \"data_submitting_center_label\"]], how=\"inner\")\n",
    "    )\n",
    "    predictor_df_valid = (\n",
    "        pd.DataFrame.from_dict(valid_predictors)\n",
    "        .join(md[[\"investigation\", \"data_submitting_center_label\"]], how=\"inner\")\n",
    "    )\n",
    "\n",
    "    X_train = predictor_df_train[investigations]\n",
    "    _invests = predictor_df_train[\"investigation\"].unique()\n",
    "    _invests = [x for x in _invests if x != \"BRCA\"]\n",
    "    X_train = X_train[_invests]\n",
    "    \n",
    "    transformer = LabelEncoder().fit(predictor_df_train[\"investigation\"])\n",
    "    y_train = transformer.transform(predictor_df_train[\"investigation\"])\n",
    "\n",
    "    model.fit(X_train, y_train)\n",
    "    \n",
    "    X_valid = predictor_df_valid[investigations]\n",
    "    _invests = predictor_df_valid[\"investigation\"].unique()\n",
    "    _invests = [x for x in _invests if x != \"BRCA\"]\n",
    "    X_valid = X_valid[_invests]\n",
    "    y_valid = transformer.transform(predictor_df_valid[\"investigation\"])\n",
    "    \n",
    "    train_score = model.score(X_train, y_train)\n",
    "    valid_score = model.score(X_valid, y_valid)\n",
    "    \n",
    "    print(f\"Split {i}: Train={train_score:.3f}, Valid={valid_score:.3f}\")\n",
    "    \n",
    "    if valid_score > best_deseq2_score:\n",
    "        best_deseq2_res = deseq2_res\n",
    "        best_deseq2_model = deepcopy(model)\n",
    "        best_deseq2_score = valid_score\n",
    "        best_deseq2_transformer = transformer\n",
    "        \n",
    "    deseq2_score_dict[i] = {\"train\": train_score, \"valid\": valid_score}"
   ]
  },
  {
   "cell_type": "code",
   "execution_count": 25,
   "id": "087df160-57dd-4909-a4c1-b6744c2c19d6",
   "metadata": {},
   "outputs": [
    {
     "data": {
      "text/html": [
       "<div>\n",
       "<style scoped>\n",
       "    .dataframe tbody tr th:only-of-type {\n",
       "        vertical-align: middle;\n",
       "    }\n",
       "\n",
       "    .dataframe tbody tr th {\n",
       "        vertical-align: top;\n",
       "    }\n",
       "\n",
       "    .dataframe thead th {\n",
       "        text-align: right;\n",
       "    }\n",
       "</style>\n",
       "<table border=\"1\" class=\"dataframe\">\n",
       "  <thead>\n",
       "    <tr style=\"text-align: right;\">\n",
       "      <th></th>\n",
       "      <th>train</th>\n",
       "      <th>valid</th>\n",
       "      <th>tool</th>\n",
       "    </tr>\n",
       "  </thead>\n",
       "  <tbody>\n",
       "    <tr>\n",
       "      <th>0</th>\n",
       "      <td>0.613208</td>\n",
       "      <td>0.626168</td>\n",
       "      <td>DESeq2</td>\n",
       "    </tr>\n",
       "    <tr>\n",
       "      <th>1</th>\n",
       "      <td>0.712941</td>\n",
       "      <td>0.650943</td>\n",
       "      <td>DESeq2</td>\n",
       "    </tr>\n",
       "    <tr>\n",
       "      <th>2</th>\n",
       "      <td>0.529412</td>\n",
       "      <td>0.603774</td>\n",
       "      <td>DESeq2</td>\n",
       "    </tr>\n",
       "    <tr>\n",
       "      <th>3</th>\n",
       "      <td>0.689412</td>\n",
       "      <td>0.688679</td>\n",
       "      <td>DESeq2</td>\n",
       "    </tr>\n",
       "    <tr>\n",
       "      <th>4</th>\n",
       "      <td>0.590588</td>\n",
       "      <td>0.594340</td>\n",
       "      <td>DESeq2</td>\n",
       "    </tr>\n",
       "  </tbody>\n",
       "</table>\n",
       "</div>"
      ],
      "text/plain": [
       "      train     valid    tool\n",
       "0  0.613208  0.626168  DESeq2\n",
       "1  0.712941  0.650943  DESeq2\n",
       "2  0.529412  0.603774  DESeq2\n",
       "3  0.689412  0.688679  DESeq2\n",
       "4  0.590588  0.594340  DESeq2"
      ]
     },
     "execution_count": 25,
     "metadata": {},
     "output_type": "execute_result"
    }
   ],
   "source": [
    "deseq2_scores = pd.DataFrame(deseq2_score_dict).T\n",
    "deseq2_scores[\"tool\"] = \"DESeq2\"\n",
    "deseq2_scores"
   ]
  },
  {
   "cell_type": "code",
   "execution_count": 26,
   "id": "417e7330-c11d-46be-aa1e-4b5ccc9cde75",
   "metadata": {},
   "outputs": [
    {
     "name": "stdout",
     "output_type": "stream",
     "text": [
      "0.6691729323308271\n"
     ]
    }
   ],
   "source": [
    "test_predictors = dict()\n",
    "\n",
    "for invest in investigations:\n",
    "    top_n, bot_n = get_lr_feats_other(best_deseq2_res, invest, n=100)\n",
    "    test_predictors[invest] = get_predictor_df(test_tbl, top_n, bot_n)\n",
    "\n",
    "predictor_df_test = (\n",
    "    pd.DataFrame.from_dict(test_predictors)\n",
    "    .join(md[[\"investigation\", \"data_submitting_center_label\"]], how=\"inner\")\n",
    ")\n",
    "\n",
    "X_test = predictor_df_test[investigations]\n",
    "_invests = predictor_df_test[\"investigation\"].unique()\n",
    "_invests = [x for x in _invests if x != \"BRCA\"]\n",
    "X_test = X_test[_invests]\n",
    "y_test = best_deseq2_transformer.transform(predictor_df_test[\"investigation\"])\n",
    "\n",
    "test_deseq2_score = best_deseq2_model.score(X_test, y_test)\n",
    "print(test_deseq2_score)"
   ]
  },
  {
   "cell_type": "markdown",
   "id": "1b5e7484-17de-4d93-afd2-493e14966b5b",
   "metadata": {},
   "source": [
    "## Songbird"
   ]
  },
  {
   "cell_type": "code",
   "execution_count": 27,
   "id": "5e4a5059-1304-46cf-a700-4d4ddf2e547f",
   "metadata": {},
   "outputs": [
    {
     "name": "stdout",
     "output_type": "stream",
     "text": [
      "Split 0: Train=0.616, Valid=0.617\n",
      "Split 1: Train=0.680, Valid=0.547\n",
      "Split 2: Train=0.633, Valid=0.708\n",
      "Split 3: Train=0.631, Valid=0.651\n",
      "Split 4: Train=0.645, Valid=0.604\n"
     ]
    }
   ],
   "source": [
    "songbird_regex = re.compile(\"\\[T.TCGA-(\\w+)\\]\")\n",
    "songbird_path = Path(\"../results/tcga_reanalyzed/songbird_split/\")\n",
    "\n",
    "best_sbird_score = 0\n",
    "\n",
    "songbird_score_dict = dict()\n",
    "\n",
    "for i in range(5):\n",
    "    train_tbl = tbl_dict[i][\"train\"]\n",
    "    valid_tbl = tbl_dict[i][\"valid\"]\n",
    "    \n",
    "    songbird_split_path = songbird_path / f\"split_{i}\" / \"differentials.tsv\"\n",
    "    songbird_res = pd.read_table(songbird_split_path, index_col=0)\n",
    "    songbird_res = songbird_res.filter(like=\"investigation\")\n",
    "    songbird_res.columns = [\n",
    "        songbird_regex.search(x).groups()[0] for x in songbird_res.columns\n",
    "        if \"investigation\" in x\n",
    "    ]\n",
    "\n",
    "    train_predictors = dict()\n",
    "    valid_predictors = dict()\n",
    "    \n",
    "    for invest in investigations:\n",
    "        top_n, bot_n = get_lr_feats_other(songbird_res, invest, n=100)\n",
    "        train_predictors[invest] = get_predictor_df(train_tbl, top_n, bot_n)\n",
    "        valid_predictors[invest] = get_predictor_df(valid_tbl, top_n, bot_n)\n",
    "    \n",
    "    predictor_df_train = (\n",
    "        pd.DataFrame.from_dict(train_predictors)\n",
    "        .join(md[[\"investigation\", \"data_submitting_center_label\"]], how=\"inner\")\n",
    "    )\n",
    "    predictor_df_valid = (\n",
    "        pd.DataFrame.from_dict(valid_predictors)\n",
    "        .join(md[[\"investigation\", \"data_submitting_center_label\"]], how=\"inner\")\n",
    "    )\n",
    "\n",
    "    X_train = predictor_df_train[investigations]\n",
    "    _invests = predictor_df_train[\"investigation\"].unique()\n",
    "    _invests = [x for x in _invests if x != \"BRCA\"]\n",
    "    X_train = X_train[_invests]\n",
    "    \n",
    "    transformer = LabelEncoder().fit(predictor_df_train[\"investigation\"])\n",
    "    y_train = transformer.transform(predictor_df_train[\"investigation\"])\n",
    "\n",
    "    model.fit(X_train, y_train)\n",
    "    \n",
    "    X_valid = predictor_df_valid[investigations]\n",
    "    _invests = predictor_df_valid[\"investigation\"].unique()\n",
    "    _invests = [x for x in _invests if x != \"BRCA\"]\n",
    "    X_valid = X_valid[_invests]\n",
    "    y_valid = transformer.transform(predictor_df_valid[\"investigation\"])\n",
    "    \n",
    "    train_score = model.score(X_train, y_train)\n",
    "    valid_score = model.score(X_valid, y_valid)\n",
    "    \n",
    "    print(f\"Split {i}: Train={train_score:.3f}, Valid={valid_score:.3f}\")\n",
    "    \n",
    "    if valid_score > best_sbird_score:\n",
    "        best_sbird_res = songbird_res\n",
    "        best_sbird_model = deepcopy(model)\n",
    "        best_sbird_score = valid_score\n",
    "        best_sbird_transformer = transformer\n",
    "        \n",
    "    songbird_score_dict[i] = {\"train\": train_score, \"valid\": valid_score}"
   ]
  },
  {
   "cell_type": "code",
   "execution_count": 28,
   "id": "24709ab6-2f51-423d-8a13-5b60bb0a56c8",
   "metadata": {},
   "outputs": [
    {
     "data": {
      "text/html": [
       "<div>\n",
       "<style scoped>\n",
       "    .dataframe tbody tr th:only-of-type {\n",
       "        vertical-align: middle;\n",
       "    }\n",
       "\n",
       "    .dataframe tbody tr th {\n",
       "        vertical-align: top;\n",
       "    }\n",
       "\n",
       "    .dataframe thead th {\n",
       "        text-align: right;\n",
       "    }\n",
       "</style>\n",
       "<table border=\"1\" class=\"dataframe\">\n",
       "  <thead>\n",
       "    <tr style=\"text-align: right;\">\n",
       "      <th></th>\n",
       "      <th>train</th>\n",
       "      <th>valid</th>\n",
       "      <th>tool</th>\n",
       "    </tr>\n",
       "  </thead>\n",
       "  <tbody>\n",
       "    <tr>\n",
       "      <th>0</th>\n",
       "      <td>0.615566</td>\n",
       "      <td>0.616822</td>\n",
       "      <td>Songbird</td>\n",
       "    </tr>\n",
       "    <tr>\n",
       "      <th>1</th>\n",
       "      <td>0.680000</td>\n",
       "      <td>0.547170</td>\n",
       "      <td>Songbird</td>\n",
       "    </tr>\n",
       "    <tr>\n",
       "      <th>2</th>\n",
       "      <td>0.632941</td>\n",
       "      <td>0.707547</td>\n",
       "      <td>Songbird</td>\n",
       "    </tr>\n",
       "    <tr>\n",
       "      <th>3</th>\n",
       "      <td>0.630588</td>\n",
       "      <td>0.650943</td>\n",
       "      <td>Songbird</td>\n",
       "    </tr>\n",
       "    <tr>\n",
       "      <th>4</th>\n",
       "      <td>0.644706</td>\n",
       "      <td>0.603774</td>\n",
       "      <td>Songbird</td>\n",
       "    </tr>\n",
       "  </tbody>\n",
       "</table>\n",
       "</div>"
      ],
      "text/plain": [
       "      train     valid      tool\n",
       "0  0.615566  0.616822  Songbird\n",
       "1  0.680000  0.547170  Songbird\n",
       "2  0.632941  0.707547  Songbird\n",
       "3  0.630588  0.650943  Songbird\n",
       "4  0.644706  0.603774  Songbird"
      ]
     },
     "execution_count": 28,
     "metadata": {},
     "output_type": "execute_result"
    }
   ],
   "source": [
    "songbird_scores = pd.DataFrame(songbird_score_dict).T\n",
    "songbird_scores[\"tool\"] = \"Songbird\"\n",
    "songbird_scores"
   ]
  },
  {
   "cell_type": "code",
   "execution_count": 29,
   "id": "57219ad9-ea89-4cef-9323-17b5c9097545",
   "metadata": {},
   "outputs": [
    {
     "name": "stdout",
     "output_type": "stream",
     "text": [
      "0.6390977443609023\n"
     ]
    }
   ],
   "source": [
    "test_predictors = dict()\n",
    "\n",
    "for invest in investigations:\n",
    "    top_n, bot_n = get_lr_feats_other(best_sbird_res, invest, n=100)\n",
    "    test_predictors[invest] = get_predictor_df(test_tbl, top_n, bot_n)\n",
    "\n",
    "predictor_df_test = (\n",
    "    pd.DataFrame.from_dict(test_predictors)\n",
    "    .join(md[[\"investigation\", \"data_submitting_center_label\"]], how=\"inner\")\n",
    ")\n",
    "\n",
    "X_test = predictor_df_test[investigations]\n",
    "_invests = predictor_df_test[\"investigation\"].unique()\n",
    "_invests = [x for x in _invests if x != \"BRCA\"]\n",
    "X_test = X_test[_invests]\n",
    "y_test = best_sbird_transformer.transform(predictor_df_test[\"investigation\"])\n",
    "\n",
    "test_sbird_score = best_sbird_model.score(X_test, y_test)\n",
    "print(test_sbird_score)"
   ]
  },
  {
   "cell_type": "markdown",
   "id": "1da3f020-d62b-4470-be2a-66dc2bcdf9dc",
   "metadata": {},
   "source": [
    "## Random Forest"
   ]
  },
  {
   "cell_type": "code",
   "execution_count": 30,
   "id": "e04c5af3-7e54-4acd-a361-354f0bc87fb6",
   "metadata": {},
   "outputs": [],
   "source": [
    "def tbl_to_clr(tbl):\n",
    "    tbl_df = tbl.to_dataframe(dense=True).T\n",
    "    return pd.DataFrame(clr(tbl_df.values + 1), index=tbl_df.index, columns=tbl_df.columns)"
   ]
  },
  {
   "cell_type": "code",
   "execution_count": 31,
   "id": "25896c4d-5d64-4421-8946-f9f77d908300",
   "metadata": {},
   "outputs": [],
   "source": [
    "rf_model = RandomForestClassifier(random_state=63, n_estimators=100)"
   ]
  },
  {
   "cell_type": "code",
   "execution_count": 32,
   "id": "df586b90-b398-4fc4-9aa6-cbb9c351e867",
   "metadata": {},
   "outputs": [
    {
     "name": "stdout",
     "output_type": "stream",
     "text": [
      "Split 0: Train=1.000, Valid=0.785\n",
      "Split 1: Train=1.000, Valid=0.792\n",
      "Split 2: Train=1.000, Valid=0.849\n",
      "Split 3: Train=1.000, Valid=0.877\n",
      "Split 4: Train=1.000, Valid=0.887\n"
     ]
    }
   ],
   "source": [
    "best_rf_score = 0\n",
    "\n",
    "rf_score_dict = dict()\n",
    "\n",
    "for i in range(5):\n",
    "    train_tbl = tbl_to_clr(tbl_dict[i][\"train\"]).join(md[\"investigation\"])\n",
    "    valid_tbl = tbl_to_clr(tbl_dict[i][\"valid\"]).join(md[\"investigation\"])\n",
    "    \n",
    "    transformer = LabelEncoder().fit(train_tbl[\"investigation\"])\n",
    "    y_train = transformer.transform(train_tbl[\"investigation\"])\n",
    "    X_train = train_tbl.drop(columns=[\"investigation\"]).values\n",
    "    \n",
    "    y_valid = transformer.transform(valid_tbl[\"investigation\"])\n",
    "    X_valid = valid_tbl.drop(columns=[\"investigation\"]).values\n",
    "    \n",
    "    rf_model.fit(X_train, y_train)\n",
    "    \n",
    "    train_score = rf_model.score(X_train, y_train)\n",
    "    valid_score = rf_model.score(X_valid, y_valid)\n",
    "    \n",
    "    print(f\"Split {i}: Train={train_score:.3f}, Valid={valid_score:.3f}\")\n",
    "    \n",
    "    if valid_score > best_rf_score:\n",
    "        best_rf_model = deepcopy(rf_model)\n",
    "        best_rf_transformer = transformer\n",
    "        \n",
    "    rf_score_dict[i] = {\"train\": train_score, \"valid\": valid_score}"
   ]
  },
  {
   "cell_type": "code",
   "execution_count": 33,
   "id": "f15e5077-4b6e-4307-9b82-fd27f9c3fd04",
   "metadata": {},
   "outputs": [
    {
     "data": {
      "text/html": [
       "<div>\n",
       "<style scoped>\n",
       "    .dataframe tbody tr th:only-of-type {\n",
       "        vertical-align: middle;\n",
       "    }\n",
       "\n",
       "    .dataframe tbody tr th {\n",
       "        vertical-align: top;\n",
       "    }\n",
       "\n",
       "    .dataframe thead th {\n",
       "        text-align: right;\n",
       "    }\n",
       "</style>\n",
       "<table border=\"1\" class=\"dataframe\">\n",
       "  <thead>\n",
       "    <tr style=\"text-align: right;\">\n",
       "      <th></th>\n",
       "      <th>train</th>\n",
       "      <th>valid</th>\n",
       "      <th>tool</th>\n",
       "    </tr>\n",
       "  </thead>\n",
       "  <tbody>\n",
       "    <tr>\n",
       "      <th>0</th>\n",
       "      <td>1.0</td>\n",
       "      <td>0.785047</td>\n",
       "      <td>Random Forest</td>\n",
       "    </tr>\n",
       "    <tr>\n",
       "      <th>1</th>\n",
       "      <td>1.0</td>\n",
       "      <td>0.792453</td>\n",
       "      <td>Random Forest</td>\n",
       "    </tr>\n",
       "    <tr>\n",
       "      <th>2</th>\n",
       "      <td>1.0</td>\n",
       "      <td>0.849057</td>\n",
       "      <td>Random Forest</td>\n",
       "    </tr>\n",
       "    <tr>\n",
       "      <th>3</th>\n",
       "      <td>1.0</td>\n",
       "      <td>0.877358</td>\n",
       "      <td>Random Forest</td>\n",
       "    </tr>\n",
       "    <tr>\n",
       "      <th>4</th>\n",
       "      <td>1.0</td>\n",
       "      <td>0.886792</td>\n",
       "      <td>Random Forest</td>\n",
       "    </tr>\n",
       "  </tbody>\n",
       "</table>\n",
       "</div>"
      ],
      "text/plain": [
       "   train     valid           tool\n",
       "0    1.0  0.785047  Random Forest\n",
       "1    1.0  0.792453  Random Forest\n",
       "2    1.0  0.849057  Random Forest\n",
       "3    1.0  0.877358  Random Forest\n",
       "4    1.0  0.886792  Random Forest"
      ]
     },
     "execution_count": 33,
     "metadata": {},
     "output_type": "execute_result"
    }
   ],
   "source": [
    "rf_scores = pd.DataFrame(rf_score_dict).T\n",
    "rf_scores[\"tool\"] = \"Random Forest\"\n",
    "rf_scores"
   ]
  },
  {
   "cell_type": "code",
   "execution_count": 34,
   "id": "68d34314-3c3a-4417-8bc4-7dff65ff7640",
   "metadata": {},
   "outputs": [
    {
     "name": "stderr",
     "output_type": "stream",
     "text": [
      "/home/grahman/miniconda3/envs/birdman-analyses-final/lib/python3.8/site-packages/sklearn/base.py:443: UserWarning: X has feature names, but RandomForestClassifier was fitted without feature names\n",
      "  warnings.warn(\n"
     ]
    }
   ],
   "source": [
    "X_test = tbl_to_clr(test_tbl).join(md[\"investigation\"])\n",
    "y_test = best_rf_transformer.transform(X_test[\"investigation\"])\n",
    "X_test = X_test.drop(columns=[\"investigation\"])\n",
    "\n",
    "test_rf_score = best_rf_model.score(X_test, y_test)"
   ]
  },
  {
   "cell_type": "code",
   "execution_count": 35,
   "id": "9228bf83-a1c1-40f2-bc5b-4f44726475e6",
   "metadata": {},
   "outputs": [
    {
     "data": {
      "text/html": [
       "<div>\n",
       "<style scoped>\n",
       "    .dataframe tbody tr th:only-of-type {\n",
       "        vertical-align: middle;\n",
       "    }\n",
       "\n",
       "    .dataframe tbody tr th {\n",
       "        vertical-align: top;\n",
       "    }\n",
       "\n",
       "    .dataframe thead th {\n",
       "        text-align: right;\n",
       "    }\n",
       "</style>\n",
       "<table border=\"1\" class=\"dataframe\">\n",
       "  <thead>\n",
       "    <tr style=\"text-align: right;\">\n",
       "      <th></th>\n",
       "      <th>tool</th>\n",
       "      <th>variable</th>\n",
       "      <th>value</th>\n",
       "    </tr>\n",
       "  </thead>\n",
       "  <tbody>\n",
       "    <tr>\n",
       "      <th>0</th>\n",
       "      <td>BIRDMAn</td>\n",
       "      <td>Train</td>\n",
       "      <td>0.740566</td>\n",
       "    </tr>\n",
       "    <tr>\n",
       "      <th>1</th>\n",
       "      <td>BIRDMAn</td>\n",
       "      <td>Train</td>\n",
       "      <td>0.792941</td>\n",
       "    </tr>\n",
       "    <tr>\n",
       "      <th>2</th>\n",
       "      <td>BIRDMAn</td>\n",
       "      <td>Train</td>\n",
       "      <td>0.821176</td>\n",
       "    </tr>\n",
       "    <tr>\n",
       "      <th>3</th>\n",
       "      <td>BIRDMAn</td>\n",
       "      <td>Train</td>\n",
       "      <td>0.752941</td>\n",
       "    </tr>\n",
       "    <tr>\n",
       "      <th>4</th>\n",
       "      <td>BIRDMAn</td>\n",
       "      <td>Train</td>\n",
       "      <td>0.736471</td>\n",
       "    </tr>\n",
       "  </tbody>\n",
       "</table>\n",
       "</div>"
      ],
      "text/plain": [
       "      tool variable     value\n",
       "0  BIRDMAn    Train  0.740566\n",
       "1  BIRDMAn    Train  0.792941\n",
       "2  BIRDMAn    Train  0.821176\n",
       "3  BIRDMAn    Train  0.752941\n",
       "4  BIRDMAn    Train  0.736471"
      ]
     },
     "execution_count": 35,
     "metadata": {},
     "output_type": "execute_result"
    }
   ],
   "source": [
    "score_df = pd.concat([\n",
    "    birdman_scores,\n",
    "    aldex2_scores,\n",
    "    ancombc_scores,\n",
    "    deseq2_scores,\n",
    "    songbird_scores,\n",
    "    rf_scores\n",
    "])\n",
    "\n",
    "test_scores = [\n",
    "    test_birdman_score,\n",
    "    test_aldex2_score,\n",
    "    test_ancombc_score,\n",
    "    test_deseq2_score,\n",
    "    test_sbird_score,\n",
    "    test_rf_score\n",
    "]\n",
    "\n",
    "score_df = score_df.melt(value_vars=[\"train\", \"valid\"], id_vars=[\"tool\"])\n",
    "score_df[\"variable\"] = score_df[\"variable\"].str.capitalize()\n",
    "score_df.head()"
   ]
  },
  {
   "cell_type": "code",
   "execution_count": 36,
   "id": "2f92e546-8149-4a28-925f-d7545702c28e",
   "metadata": {},
   "outputs": [
    {
     "data": {
      "image/png": "[encoded data removed]",
      "text/plain": [
       "<Figure size 1800x1200 with 1 Axes>"
      ]
     },
     "metadata": {},
     "output_type": "display_data"
    }
   ],
   "source": [
    "fig, ax = plt.subplots(1, 1)\n",
    "\n",
    "cmap = dict(zip([\"Train\", \"Valid\"], sns.color_palette(\"colorblind\", 2)))\n",
    "\n",
    "sns.boxplot(\n",
    "    data=score_df,\n",
    "    x=\"tool\",\n",
    "    y=\"value\",\n",
    "    hue=\"variable\",\n",
    "    palette=cmap,\n",
    "    ax=ax\n",
    ")\n",
    "\n",
    "for i, _score in enumerate(test_scores):\n",
    "    ax.scatter(\n",
    "        [i],\n",
    "        [_score],\n",
    "        marker=\"*\",\n",
    "        edgecolor=\"black\",\n",
    "        color=\"yellow\",\n",
    "        s=100\n",
    "    )\n",
    "    ax.tick_params(\"x\", rotation=45)\n",
    "    \n",
    "from matplotlib.patches import Patch\n",
    "from matplotlib.lines import Line2D\n",
    "\n",
    "handles = [\n",
    "    Patch(facecolor=c, label=label + \" Performance\", edgecolor=\"black\")\n",
    "    for label, c in cmap.items()\n",
    "]\n",
    "handles.append(\n",
    "    Line2D([0], [0], marker=\"*\", mfc=\"yellow\", mec=\"black\", lw=0,\n",
    "           markersize=10, label=\"Test Performance\")\n",
    ")\n",
    "\n",
    "ax.legend(handles=handles, framealpha=1)\n",
    "ax.set_ylabel(\"Accuracy\")\n",
    "ax.set_xlabel(\"\")\n",
    "ax.grid()\n",
    "\n",
    "plt.savefig(\"../figures/tcga_reanalyzed/tool_model_perf.pdf\")\n",
    "plt.savefig(\"../figures/tcga_reanalyzed/tool_model_perf.png\")\n",
    "\n",
    "plt.show()"
   ]
  },
  {
   "cell_type": "code",
   "execution_count": 37,
   "id": "056514fa-2658-43b8-8ac6-9f13520be4fb",
   "metadata": {},
   "outputs": [],
   "source": [
    "import json\n",
    "from copy import deepcopy\n",
    "\n",
    "with open(\"./best_birdman_ratio_microbes.json\", \"w+\") as fp:\n",
    "    _d = deepcopy(best_birdman_ratio_microbes)\n",
    "    for cancer_type, ratio_dict in _d.items():\n",
    "        for loc, microbes in ratio_dict.items():\n",
    "            _d[cancer_type][loc] = microbes.tolist()\n",
    "    json.dump(_d, fp)"
   ]
  },
  {
   "cell_type": "code",
   "execution_count": 41,
   "id": "72c7e71d-d3d7-4adb-81f9-48d0685cc6aa",
   "metadata": {},
   "outputs": [],
   "source": [
    "a = set(best_birdman_ratio_microbes[\"HNSC\"][\"top\"])\n",
    "b = set(best_birdman_ratio_microbes[\"HNSC\"][\"bot\"])"
   ]
  },
  {
   "cell_type": "code",
   "execution_count": null,
   "id": "156ad607-1bb7-4ae0-a112-b4a4da755eb6",
   "metadata": {},
   "outputs": [],
   "source": []
  }
 ],
 "metadata": {
  "kernelspec": {
   "display_name": "Python (birdman-analyses-final)",
   "language": "python",
   "name": "birdman_analyses_final"
  },
  "language_info": {
   "codemirror_mode": {
    "name": "ipython",
    "version": 3
   },
   "file_extension": ".py",
   "mimetype": "text/x-python",
   "name": "python",
   "nbconvert_exporter": "python",
   "pygments_lexer": "ipython3",
   "version": "3.8.13"
  }
 },
 "nbformat": 4,
 "nbformat_minor": 5
}
